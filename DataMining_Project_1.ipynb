{
 "cells": [
  {
   "cell_type": "markdown",
   "metadata": {
    "id": "g-VfK1mL3Vn1"
   },
   "source": [
    "<font face=\"B Mitra\" size=4>\n",
    "<div dir=rtl align=center>\n",
    "<br>\n",
    "<img src=\"https://aut.ac.ir/templates/tmpl_modern01/images/logo_fa.png\" alt=\"Amirkabir University Logo\" width=\"100\">\n",
    "<br>\n",
    "<font size=6>\n",
    "<b>پروژه اول داده کاوی</b>\n",
    "<br>\n",
    "<b><font size=5> استاد درس: دکتر فاطمه شاکری</b>\n",
    "<hr>\n",
    "</div>\n",
    "</font>"
   ]
  },
  {
   "cell_type": "markdown",
   "metadata": {
    "id": "_3DuaZdiTT1j"
   },
   "source": [
    "<font face=\"B Mitra\">\n",
    "<div dir=rtl>\n",
    "<font size=6>\n",
    "<b> معرفی مجموعه داده </b>\n",
    "<br>\n",
    "<p align=\"justify\">\n",
    "<font size=5>\n",
    "در این روزها، روابط کاری بیش از پیش به اعتماد متکی می‌شوند، و قراردادهای سخت گیرانه (که زمان کاری به دقت نظارت می‌شود) با قراردادهای انعطاف‌پذیرتر جایگزین می‌شوند که در آن کارمند به طور فردی مسئولیت حسابرسی زمان کاری را بر عهده دارد. این آزادی ممکن است منجر به غیبت بدون نظارت شود ، حتی اگر ساعات غیبت با دلایل معتبر قابل محاسبه باشد. این می‌تواند به طور قابل توجهی به روابط کاری سالم آسیب بزند. به علاوه، غیبت بدون نظارت می‌تواند تأثیر منفی بر بهره‌وری کاری داشته باشد\n",
    "\n",
    "هدف ما کشف الگوهای پنهان در داده‌هاست که ممکن است برای تمایز بین غیبت‌های واقعی از غیبت‌های تقلبی مفید باشند.\n",
    "همچنین با بررسی دلایل غیبت و تجدیدنظر در روند استخدامی در آینده ، میزان غیبت کاری را به حداقل رساند یا طرح هایی برای کاهش این ساعات درنظر گرفت.\n",
    "</p>\n",
    "</font>\n",
    "</div>\n",
    "</font>"
   ]
  },
  {
   "cell_type": "markdown",
   "metadata": {
    "id": "0-_ahgyNf9gV"
   },
   "source": [
    "<font face=\"B Mitra\">\n",
    "<div dir=rtl>\n",
    "<font size=5>\n",
    "<b> بارگذاری کتابخانه های موردنیاز </b>\n",
    "<br>\n",
    "</div>\n",
    "</font>"
   ]
  },
  {
   "cell_type": "code",
   "execution_count": 69,
   "metadata": {
    "id": "rlI7XkAnf9CB"
   },
   "outputs": [],
   "source": [
    "import numpy as np\n",
    "import pandas as pd\n",
    "import seaborn as sns\n",
    "import matplotlib.pyplot as plt"
   ]
  },
  {
   "cell_type": "markdown",
   "metadata": {
    "id": "2Vr_F6P9VCVe"
   },
   "source": [
    "<font face=\"B Mitra\">\n",
    "<div dir=rtl>\n",
    "<font size=5>\n",
    "<b> بارگذاری مجموعه داده </b>\n",
    "<br>\n",
    "</div>\n",
    "</font>"
   ]
  },
  {
   "cell_type": "code",
   "execution_count": 70,
   "metadata": {
    "id": "96mtrfVxOdNb"
   },
   "outputs": [
    {
     "data": {
      "text/html": [
       "<div>\n",
       "<style scoped>\n",
       "    .dataframe tbody tr th:only-of-type {\n",
       "        vertical-align: middle;\n",
       "    }\n",
       "\n",
       "    .dataframe tbody tr th {\n",
       "        vertical-align: top;\n",
       "    }\n",
       "\n",
       "    .dataframe thead th {\n",
       "        text-align: right;\n",
       "    }\n",
       "</style>\n",
       "<table border=\"1\" class=\"dataframe\">\n",
       "  <thead>\n",
       "    <tr style=\"text-align: right;\">\n",
       "      <th></th>\n",
       "      <th>Employee_ID</th>\n",
       "      <th>Absence_Reason</th>\n",
       "      <th>Date</th>\n",
       "      <th>Transportation_Expense</th>\n",
       "      <th>Distance_to_Work</th>\n",
       "      <th>Employment_Service_Time</th>\n",
       "      <th>Employee_Age</th>\n",
       "      <th>Daily_Workload_Average</th>\n",
       "      <th>Target_Achievement_Rate</th>\n",
       "      <th>Disciplinary_Incident</th>\n",
       "      <th>Education_Level</th>\n",
       "      <th>Children</th>\n",
       "      <th>Social_Drinker_Status</th>\n",
       "      <th>Social_Smoker_Status</th>\n",
       "      <th>Employee_Weight</th>\n",
       "      <th>Employee_Height</th>\n",
       "      <th>BMI</th>\n",
       "      <th>Absence_Duration_Hours</th>\n",
       "    </tr>\n",
       "  </thead>\n",
       "  <tbody>\n",
       "    <tr>\n",
       "      <th>0</th>\n",
       "      <td>11</td>\n",
       "      <td>26</td>\n",
       "      <td>07/07/2015</td>\n",
       "      <td>289</td>\n",
       "      <td>36</td>\n",
       "      <td>13</td>\n",
       "      <td>33</td>\n",
       "      <td>239554</td>\n",
       "      <td>97</td>\n",
       "      <td>0</td>\n",
       "      <td>1</td>\n",
       "      <td>2</td>\n",
       "      <td>1</td>\n",
       "      <td>0</td>\n",
       "      <td>90</td>\n",
       "      <td>172</td>\n",
       "      <td>30</td>\n",
       "      <td>4</td>\n",
       "    </tr>\n",
       "    <tr>\n",
       "      <th>1</th>\n",
       "      <td>36</td>\n",
       "      <td>0</td>\n",
       "      <td>14/07/2015</td>\n",
       "      <td>118</td>\n",
       "      <td>13</td>\n",
       "      <td>18</td>\n",
       "      <td>50</td>\n",
       "      <td>239554</td>\n",
       "      <td>97</td>\n",
       "      <td>1</td>\n",
       "      <td>1</td>\n",
       "      <td>1</td>\n",
       "      <td>1</td>\n",
       "      <td>0</td>\n",
       "      <td>98</td>\n",
       "      <td>178</td>\n",
       "      <td>31</td>\n",
       "      <td>0</td>\n",
       "    </tr>\n",
       "    <tr>\n",
       "      <th>2</th>\n",
       "      <td>3</td>\n",
       "      <td>23</td>\n",
       "      <td>15/07/2015</td>\n",
       "      <td>179</td>\n",
       "      <td>51</td>\n",
       "      <td>18</td>\n",
       "      <td>38</td>\n",
       "      <td>239554</td>\n",
       "      <td>97</td>\n",
       "      <td>0</td>\n",
       "      <td>1</td>\n",
       "      <td>0</td>\n",
       "      <td>1</td>\n",
       "      <td>0</td>\n",
       "      <td>89</td>\n",
       "      <td>170</td>\n",
       "      <td>31</td>\n",
       "      <td>2</td>\n",
       "    </tr>\n",
       "    <tr>\n",
       "      <th>3</th>\n",
       "      <td>7</td>\n",
       "      <td>7</td>\n",
       "      <td>16/07/2015</td>\n",
       "      <td>279</td>\n",
       "      <td>5</td>\n",
       "      <td>14</td>\n",
       "      <td>39</td>\n",
       "      <td>239554</td>\n",
       "      <td>97</td>\n",
       "      <td>0</td>\n",
       "      <td>1</td>\n",
       "      <td>2</td>\n",
       "      <td>1</td>\n",
       "      <td>1</td>\n",
       "      <td>68</td>\n",
       "      <td>168</td>\n",
       "      <td>24</td>\n",
       "      <td>4</td>\n",
       "    </tr>\n",
       "    <tr>\n",
       "      <th>4</th>\n",
       "      <td>11</td>\n",
       "      <td>23</td>\n",
       "      <td>23/07/2015</td>\n",
       "      <td>289</td>\n",
       "      <td>36</td>\n",
       "      <td>13</td>\n",
       "      <td>33</td>\n",
       "      <td>239554</td>\n",
       "      <td>97</td>\n",
       "      <td>0</td>\n",
       "      <td>1</td>\n",
       "      <td>2</td>\n",
       "      <td>1</td>\n",
       "      <td>0</td>\n",
       "      <td>90</td>\n",
       "      <td>172</td>\n",
       "      <td>30</td>\n",
       "      <td>2</td>\n",
       "    </tr>\n",
       "  </tbody>\n",
       "</table>\n",
       "</div>"
      ],
      "text/plain": [
       "   Employee_ID  Absence_Reason        Date  Transportation_Expense  \\\n",
       "0           11              26  07/07/2015                     289   \n",
       "1           36               0  14/07/2015                     118   \n",
       "2            3              23  15/07/2015                     179   \n",
       "3            7               7  16/07/2015                     279   \n",
       "4           11              23  23/07/2015                     289   \n",
       "\n",
       "   Distance_to_Work  Employment_Service_Time  Employee_Age  \\\n",
       "0                36                       13            33   \n",
       "1                13                       18            50   \n",
       "2                51                       18            38   \n",
       "3                 5                       14            39   \n",
       "4                36                       13            33   \n",
       "\n",
       "   Daily_Workload_Average  Target_Achievement_Rate  Disciplinary_Incident  \\\n",
       "0                  239554                       97                      0   \n",
       "1                  239554                       97                      1   \n",
       "2                  239554                       97                      0   \n",
       "3                  239554                       97                      0   \n",
       "4                  239554                       97                      0   \n",
       "\n",
       "   Education_Level  Children  Social_Drinker_Status  Social_Smoker_Status  \\\n",
       "0                1         2                      1                     0   \n",
       "1                1         1                      1                     0   \n",
       "2                1         0                      1                     0   \n",
       "3                1         2                      1                     1   \n",
       "4                1         2                      1                     0   \n",
       "\n",
       "    Employee_Weight  Employee_Height  BMI  Absence_Duration_Hours  \n",
       "0                90              172   30                       4  \n",
       "1                98              178   31                       0  \n",
       "2                89              170   31                       2  \n",
       "3                68              168   24                       4  \n",
       "4                90              172   30                       2  "
      ]
     },
     "execution_count": 70,
     "metadata": {},
     "output_type": "execute_result"
    }
   ],
   "source": [
    "df = pd.read_excel(\"./datasets/Dataset.xls\")\n",
    "df.head()"
   ]
  },
  {
   "cell_type": "markdown",
   "metadata": {
    "id": "sBJtFzqyVrgr"
   },
   "source": [
    "<font face=\"B Mitra\">\n",
    "<div dir=rtl>\n",
    "<font size=6>\n",
    "<b> پیش پردازش </b>\n",
    "<p align=\"justify\">\n",
    "<font size=5>\n",
    "ابعاد داده را چاپ کنید.\n",
    "</p>\n",
    "</font>\n",
    "</div>\n",
    "</font>"
   ]
  },
  {
   "cell_type": "code",
   "execution_count": 71,
   "metadata": {
    "id": "aPMk-c0vqcQq"
   },
   "outputs": [
    {
     "data": {
      "text/plain": [
       "(700, 18)"
      ]
     },
     "execution_count": 71,
     "metadata": {},
     "output_type": "execute_result"
    }
   ],
   "source": [
    "df.shape"
   ]
  },
  {
   "cell_type": "code",
   "execution_count": 72,
   "metadata": {},
   "outputs": [
    {
     "name": "stdout",
     "output_type": "stream",
     "text": [
      "<class 'pandas.core.frame.DataFrame'>\n",
      "RangeIndex: 700 entries, 0 to 699\n",
      "Data columns (total 18 columns):\n",
      " #   Column                   Non-Null Count  Dtype \n",
      "---  ------                   --------------  ----- \n",
      " 0   Employee_ID              700 non-null    int64 \n",
      " 1   Absence_Reason           700 non-null    int64 \n",
      " 2   Date                     700 non-null    object\n",
      " 3   Transportation_Expense   700 non-null    int64 \n",
      " 4   Distance_to_Work         700 non-null    int64 \n",
      " 5   Employment_Service_Time  700 non-null    int64 \n",
      " 6   Employee_Age             700 non-null    int64 \n",
      " 7   Daily_Workload_Average   700 non-null    int64 \n",
      " 8   Target_Achievement_Rate  700 non-null    int64 \n",
      " 9   Disciplinary_Incident    700 non-null    int64 \n",
      " 10  Education_Level          700 non-null    int64 \n",
      " 11  Children                 700 non-null    int64 \n",
      " 12  Social_Drinker_Status    700 non-null    int64 \n",
      " 13  Social_Smoker_Status     700 non-null    int64 \n",
      " 14   Employee_Weight         700 non-null    int64 \n",
      " 15  Employee_Height          700 non-null    int64 \n",
      " 16  BMI                      700 non-null    int64 \n",
      " 17  Absence_Duration_Hours   700 non-null    int64 \n",
      "dtypes: int64(17), object(1)\n",
      "memory usage: 98.6+ KB\n"
     ]
    }
   ],
   "source": [
    "df.info()"
   ]
  },
  {
   "cell_type": "markdown",
   "metadata": {
    "id": "gul6xqzix6bH"
   },
   "source": [
    "<font face=\"B Mitra\">\n",
    "<div dir=rtl>\n",
    "<p align=\"justify\">\n",
    "<font size=5>\n",
    " مقادیر گمشده را در مجموعه داده بررسی کنید.\n",
    "</p>\n",
    "</font>\n",
    "</div>\n",
    "</font>"
   ]
  },
  {
   "cell_type": "code",
   "execution_count": 73,
   "metadata": {
    "id": "3117DDoiVYwJ"
   },
   "outputs": [
    {
     "data": {
      "text/plain": [
       "Employee_ID                0\n",
       "Absence_Reason             0\n",
       "Date                       0\n",
       "Transportation_Expense     0\n",
       "Distance_to_Work           0\n",
       "Employment_Service_Time    0\n",
       "Employee_Age               0\n",
       "Daily_Workload_Average     0\n",
       "Target_Achievement_Rate    0\n",
       "Disciplinary_Incident      0\n",
       "Education_Level            0\n",
       "Children                   0\n",
       "Social_Drinker_Status      0\n",
       "Social_Smoker_Status       0\n",
       " Employee_Weight           0\n",
       "Employee_Height            0\n",
       "BMI                        0\n",
       "Absence_Duration_Hours     0\n",
       "dtype: int64"
      ]
     },
     "execution_count": 73,
     "metadata": {},
     "output_type": "execute_result"
    }
   ],
   "source": [
    "df.isnull().sum()"
   ]
  },
  {
   "cell_type": "markdown",
   "metadata": {
    "id": "XAOANEnvch6k"
   },
   "source": [
    "<font face=\"B Mitra\">\n",
    "<div dir=rtl>\n",
    "<p align=\"justify\">\n",
    "<font size=5>\n",
    "مقادیر آماری را به شکل زیر نشان دهید.\n",
    "</p>\n",
    "</font>\n",
    "</div>\n",
    "</font>"
   ]
  },
  {
   "cell_type": "code",
   "execution_count": 74,
   "metadata": {
    "id": "N_yOSj37cqjc"
   },
   "outputs": [
    {
     "data": {
      "text/html": [
       "<div>\n",
       "<style scoped>\n",
       "    .dataframe tbody tr th:only-of-type {\n",
       "        vertical-align: middle;\n",
       "    }\n",
       "\n",
       "    .dataframe tbody tr th {\n",
       "        vertical-align: top;\n",
       "    }\n",
       "\n",
       "    .dataframe thead th {\n",
       "        text-align: right;\n",
       "    }\n",
       "</style>\n",
       "<table border=\"1\" class=\"dataframe\">\n",
       "  <thead>\n",
       "    <tr style=\"text-align: right;\">\n",
       "      <th></th>\n",
       "      <th>Employee_ID</th>\n",
       "      <th>Absence_Reason</th>\n",
       "      <th>Transportation_Expense</th>\n",
       "      <th>Distance_to_Work</th>\n",
       "      <th>Employment_Service_Time</th>\n",
       "      <th>Employee_Age</th>\n",
       "      <th>Daily_Workload_Average</th>\n",
       "      <th>Target_Achievement_Rate</th>\n",
       "      <th>Disciplinary_Incident</th>\n",
       "      <th>Education_Level</th>\n",
       "      <th>Children</th>\n",
       "      <th>Social_Drinker_Status</th>\n",
       "      <th>Social_Smoker_Status</th>\n",
       "      <th>Employee_Weight</th>\n",
       "      <th>Employee_Height</th>\n",
       "      <th>BMI</th>\n",
       "      <th>Absence_Duration_Hours</th>\n",
       "    </tr>\n",
       "  </thead>\n",
       "  <tbody>\n",
       "    <tr>\n",
       "      <th>count</th>\n",
       "      <td>700.000000</td>\n",
       "      <td>700.000000</td>\n",
       "      <td>700.000000</td>\n",
       "      <td>700.000000</td>\n",
       "      <td>700.000000</td>\n",
       "      <td>700.000000</td>\n",
       "      <td>700.000000</td>\n",
       "      <td>700.000000</td>\n",
       "      <td>700.000000</td>\n",
       "      <td>700.000000</td>\n",
       "      <td>700.000000</td>\n",
       "      <td>700.000000</td>\n",
       "      <td>700.000000</td>\n",
       "      <td>700.000000</td>\n",
       "      <td>700.000000</td>\n",
       "      <td>700.000000</td>\n",
       "      <td>700.000000</td>\n",
       "    </tr>\n",
       "    <tr>\n",
       "      <th>mean</th>\n",
       "      <td>17.951429</td>\n",
       "      <td>19.411429</td>\n",
       "      <td>222.347143</td>\n",
       "      <td>29.892857</td>\n",
       "      <td>12.658571</td>\n",
       "      <td>36.417143</td>\n",
       "      <td>271801.774286</td>\n",
       "      <td>94.537143</td>\n",
       "      <td>0.054286</td>\n",
       "      <td>1.282857</td>\n",
       "      <td>1.021429</td>\n",
       "      <td>0.575714</td>\n",
       "      <td>0.071429</td>\n",
       "      <td>79.140000</td>\n",
       "      <td>172.038571</td>\n",
       "      <td>26.737143</td>\n",
       "      <td>6.761429</td>\n",
       "    </tr>\n",
       "    <tr>\n",
       "      <th>std</th>\n",
       "      <td>11.028144</td>\n",
       "      <td>8.356292</td>\n",
       "      <td>66.312960</td>\n",
       "      <td>14.804446</td>\n",
       "      <td>4.326020</td>\n",
       "      <td>6.379083</td>\n",
       "      <td>40021.804183</td>\n",
       "      <td>3.851320</td>\n",
       "      <td>0.226743</td>\n",
       "      <td>0.668090</td>\n",
       "      <td>1.112215</td>\n",
       "      <td>0.494588</td>\n",
       "      <td>0.257724</td>\n",
       "      <td>12.830594</td>\n",
       "      <td>6.018802</td>\n",
       "      <td>4.254701</td>\n",
       "      <td>12.670082</td>\n",
       "    </tr>\n",
       "    <tr>\n",
       "      <th>min</th>\n",
       "      <td>1.000000</td>\n",
       "      <td>0.000000</td>\n",
       "      <td>118.000000</td>\n",
       "      <td>5.000000</td>\n",
       "      <td>1.000000</td>\n",
       "      <td>27.000000</td>\n",
       "      <td>205917.000000</td>\n",
       "      <td>81.000000</td>\n",
       "      <td>0.000000</td>\n",
       "      <td>1.000000</td>\n",
       "      <td>0.000000</td>\n",
       "      <td>0.000000</td>\n",
       "      <td>0.000000</td>\n",
       "      <td>56.000000</td>\n",
       "      <td>163.000000</td>\n",
       "      <td>19.000000</td>\n",
       "      <td>0.000000</td>\n",
       "    </tr>\n",
       "    <tr>\n",
       "      <th>25%</th>\n",
       "      <td>9.000000</td>\n",
       "      <td>13.000000</td>\n",
       "      <td>179.000000</td>\n",
       "      <td>16.000000</td>\n",
       "      <td>9.000000</td>\n",
       "      <td>31.000000</td>\n",
       "      <td>241476.000000</td>\n",
       "      <td>92.000000</td>\n",
       "      <td>0.000000</td>\n",
       "      <td>1.000000</td>\n",
       "      <td>0.000000</td>\n",
       "      <td>0.000000</td>\n",
       "      <td>0.000000</td>\n",
       "      <td>69.000000</td>\n",
       "      <td>169.000000</td>\n",
       "      <td>24.000000</td>\n",
       "      <td>2.000000</td>\n",
       "    </tr>\n",
       "    <tr>\n",
       "      <th>50%</th>\n",
       "      <td>18.000000</td>\n",
       "      <td>23.000000</td>\n",
       "      <td>225.000000</td>\n",
       "      <td>26.000000</td>\n",
       "      <td>13.000000</td>\n",
       "      <td>37.000000</td>\n",
       "      <td>264249.000000</td>\n",
       "      <td>95.000000</td>\n",
       "      <td>0.000000</td>\n",
       "      <td>1.000000</td>\n",
       "      <td>1.000000</td>\n",
       "      <td>1.000000</td>\n",
       "      <td>0.000000</td>\n",
       "      <td>83.000000</td>\n",
       "      <td>170.000000</td>\n",
       "      <td>25.000000</td>\n",
       "      <td>3.000000</td>\n",
       "    </tr>\n",
       "    <tr>\n",
       "      <th>75%</th>\n",
       "      <td>28.000000</td>\n",
       "      <td>27.000000</td>\n",
       "      <td>260.000000</td>\n",
       "      <td>50.000000</td>\n",
       "      <td>16.000000</td>\n",
       "      <td>40.000000</td>\n",
       "      <td>294217.000000</td>\n",
       "      <td>97.000000</td>\n",
       "      <td>0.000000</td>\n",
       "      <td>1.000000</td>\n",
       "      <td>2.000000</td>\n",
       "      <td>1.000000</td>\n",
       "      <td>0.000000</td>\n",
       "      <td>89.000000</td>\n",
       "      <td>172.000000</td>\n",
       "      <td>31.000000</td>\n",
       "      <td>8.000000</td>\n",
       "    </tr>\n",
       "    <tr>\n",
       "      <th>max</th>\n",
       "      <td>36.000000</td>\n",
       "      <td>28.000000</td>\n",
       "      <td>388.000000</td>\n",
       "      <td>52.000000</td>\n",
       "      <td>29.000000</td>\n",
       "      <td>58.000000</td>\n",
       "      <td>378884.000000</td>\n",
       "      <td>100.000000</td>\n",
       "      <td>1.000000</td>\n",
       "      <td>4.000000</td>\n",
       "      <td>4.000000</td>\n",
       "      <td>1.000000</td>\n",
       "      <td>1.000000</td>\n",
       "      <td>108.000000</td>\n",
       "      <td>196.000000</td>\n",
       "      <td>38.000000</td>\n",
       "      <td>120.000000</td>\n",
       "    </tr>\n",
       "  </tbody>\n",
       "</table>\n",
       "</div>"
      ],
      "text/plain": [
       "       Employee_ID  Absence_Reason  Transportation_Expense  Distance_to_Work  \\\n",
       "count   700.000000      700.000000              700.000000        700.000000   \n",
       "mean     17.951429       19.411429              222.347143         29.892857   \n",
       "std      11.028144        8.356292               66.312960         14.804446   \n",
       "min       1.000000        0.000000              118.000000          5.000000   \n",
       "25%       9.000000       13.000000              179.000000         16.000000   \n",
       "50%      18.000000       23.000000              225.000000         26.000000   \n",
       "75%      28.000000       27.000000              260.000000         50.000000   \n",
       "max      36.000000       28.000000              388.000000         52.000000   \n",
       "\n",
       "       Employment_Service_Time  Employee_Age  Daily_Workload_Average  \\\n",
       "count               700.000000    700.000000              700.000000   \n",
       "mean                 12.658571     36.417143           271801.774286   \n",
       "std                   4.326020      6.379083            40021.804183   \n",
       "min                   1.000000     27.000000           205917.000000   \n",
       "25%                   9.000000     31.000000           241476.000000   \n",
       "50%                  13.000000     37.000000           264249.000000   \n",
       "75%                  16.000000     40.000000           294217.000000   \n",
       "max                  29.000000     58.000000           378884.000000   \n",
       "\n",
       "       Target_Achievement_Rate  Disciplinary_Incident  Education_Level  \\\n",
       "count               700.000000             700.000000       700.000000   \n",
       "mean                 94.537143               0.054286         1.282857   \n",
       "std                   3.851320               0.226743         0.668090   \n",
       "min                  81.000000               0.000000         1.000000   \n",
       "25%                  92.000000               0.000000         1.000000   \n",
       "50%                  95.000000               0.000000         1.000000   \n",
       "75%                  97.000000               0.000000         1.000000   \n",
       "max                 100.000000               1.000000         4.000000   \n",
       "\n",
       "         Children  Social_Drinker_Status  Social_Smoker_Status  \\\n",
       "count  700.000000             700.000000            700.000000   \n",
       "mean     1.021429               0.575714              0.071429   \n",
       "std      1.112215               0.494588              0.257724   \n",
       "min      0.000000               0.000000              0.000000   \n",
       "25%      0.000000               0.000000              0.000000   \n",
       "50%      1.000000               1.000000              0.000000   \n",
       "75%      2.000000               1.000000              0.000000   \n",
       "max      4.000000               1.000000              1.000000   \n",
       "\n",
       "        Employee_Weight  Employee_Height         BMI  Absence_Duration_Hours  \n",
       "count        700.000000       700.000000  700.000000              700.000000  \n",
       "mean          79.140000       172.038571   26.737143                6.761429  \n",
       "std           12.830594         6.018802    4.254701               12.670082  \n",
       "min           56.000000       163.000000   19.000000                0.000000  \n",
       "25%           69.000000       169.000000   24.000000                2.000000  \n",
       "50%           83.000000       170.000000   25.000000                3.000000  \n",
       "75%           89.000000       172.000000   31.000000                8.000000  \n",
       "max          108.000000       196.000000   38.000000              120.000000  "
      ]
     },
     "execution_count": 74,
     "metadata": {},
     "output_type": "execute_result"
    }
   ],
   "source": [
    "df.describe()"
   ]
  },
  {
   "cell_type": "markdown",
   "metadata": {
    "id": "-hJwzAnBPw1F"
   },
   "source": [
    "<div align=center>\n",
    "<br>\n",
    "<img src=\"https://drive.google.com/uc?id=1qM-jhi6ZXCHRBwgRShaYEV4ag4Pfd9gL\" alt=\"Linear Algebra Cover Art\" width=\"800\">\n",
    "<br>\n",
    "</div>"
   ]
  },
  {
   "cell_type": "markdown",
   "metadata": {
    "id": "8ZJFTXffWmM0"
   },
   "source": [
    "<font face=\"B Mitra\">\n",
    "<div dir=rtl>\n",
    "<p align=\"justify\">\n",
    "<font size=5>\n",
    "رکوردهای تکراری را در مجموعه داده بررسی کنید و درصورت نیاز حذف کنید.\n",
    "</p>\n",
    "</font>\n",
    "</div>\n",
    "</font>"
   ]
  },
  {
   "cell_type": "code",
   "execution_count": 75,
   "metadata": {
    "id": "XodCQDLCYTny"
   },
   "outputs": [
    {
     "data": {
      "text/html": [
       "<div>\n",
       "<style scoped>\n",
       "    .dataframe tbody tr th:only-of-type {\n",
       "        vertical-align: middle;\n",
       "    }\n",
       "\n",
       "    .dataframe tbody tr th {\n",
       "        vertical-align: top;\n",
       "    }\n",
       "\n",
       "    .dataframe thead th {\n",
       "        text-align: right;\n",
       "    }\n",
       "</style>\n",
       "<table border=\"1\" class=\"dataframe\">\n",
       "  <thead>\n",
       "    <tr style=\"text-align: right;\">\n",
       "      <th></th>\n",
       "      <th>Employee_ID</th>\n",
       "      <th>Absence_Reason</th>\n",
       "      <th>Date</th>\n",
       "      <th>Transportation_Expense</th>\n",
       "      <th>Distance_to_Work</th>\n",
       "      <th>Employment_Service_Time</th>\n",
       "      <th>Employee_Age</th>\n",
       "      <th>Daily_Workload_Average</th>\n",
       "      <th>Target_Achievement_Rate</th>\n",
       "      <th>Disciplinary_Incident</th>\n",
       "      <th>Education_Level</th>\n",
       "      <th>Children</th>\n",
       "      <th>Social_Drinker_Status</th>\n",
       "      <th>Social_Smoker_Status</th>\n",
       "      <th>Employee_Weight</th>\n",
       "      <th>Employee_Height</th>\n",
       "      <th>BMI</th>\n",
       "      <th>Absence_Duration_Hours</th>\n",
       "    </tr>\n",
       "  </thead>\n",
       "  <tbody>\n",
       "    <tr>\n",
       "      <th>127</th>\n",
       "      <td>34</td>\n",
       "      <td>27</td>\n",
       "      <td>11/01/2016</td>\n",
       "      <td>118</td>\n",
       "      <td>10</td>\n",
       "      <td>10</td>\n",
       "      <td>37</td>\n",
       "      <td>308593</td>\n",
       "      <td>95</td>\n",
       "      <td>0</td>\n",
       "      <td>1</td>\n",
       "      <td>0</td>\n",
       "      <td>0</td>\n",
       "      <td>0</td>\n",
       "      <td>83</td>\n",
       "      <td>172</td>\n",
       "      <td>28</td>\n",
       "      <td>2</td>\n",
       "    </tr>\n",
       "    <tr>\n",
       "      <th>128</th>\n",
       "      <td>34</td>\n",
       "      <td>27</td>\n",
       "      <td>12/01/2016</td>\n",
       "      <td>118</td>\n",
       "      <td>10</td>\n",
       "      <td>10</td>\n",
       "      <td>37</td>\n",
       "      <td>308593</td>\n",
       "      <td>95</td>\n",
       "      <td>0</td>\n",
       "      <td>1</td>\n",
       "      <td>0</td>\n",
       "      <td>0</td>\n",
       "      <td>0</td>\n",
       "      <td>83</td>\n",
       "      <td>172</td>\n",
       "      <td>28</td>\n",
       "      <td>2</td>\n",
       "    </tr>\n",
       "    <tr>\n",
       "      <th>131</th>\n",
       "      <td>34</td>\n",
       "      <td>27</td>\n",
       "      <td>13/01/2016</td>\n",
       "      <td>118</td>\n",
       "      <td>10</td>\n",
       "      <td>10</td>\n",
       "      <td>37</td>\n",
       "      <td>308593</td>\n",
       "      <td>95</td>\n",
       "      <td>0</td>\n",
       "      <td>1</td>\n",
       "      <td>0</td>\n",
       "      <td>0</td>\n",
       "      <td>0</td>\n",
       "      <td>83</td>\n",
       "      <td>172</td>\n",
       "      <td>28</td>\n",
       "      <td>2</td>\n",
       "    </tr>\n",
       "    <tr>\n",
       "      <th>305</th>\n",
       "      <td>5</td>\n",
       "      <td>23</td>\n",
       "      <td>19/10/2016</td>\n",
       "      <td>235</td>\n",
       "      <td>20</td>\n",
       "      <td>13</td>\n",
       "      <td>43</td>\n",
       "      <td>265017</td>\n",
       "      <td>88</td>\n",
       "      <td>0</td>\n",
       "      <td>1</td>\n",
       "      <td>1</td>\n",
       "      <td>1</td>\n",
       "      <td>0</td>\n",
       "      <td>106</td>\n",
       "      <td>167</td>\n",
       "      <td>38</td>\n",
       "      <td>2</td>\n",
       "    </tr>\n",
       "    <tr>\n",
       "      <th>388</th>\n",
       "      <td>3</td>\n",
       "      <td>27</td>\n",
       "      <td>22/02/2017</td>\n",
       "      <td>179</td>\n",
       "      <td>51</td>\n",
       "      <td>18</td>\n",
       "      <td>38</td>\n",
       "      <td>251818</td>\n",
       "      <td>96</td>\n",
       "      <td>0</td>\n",
       "      <td>1</td>\n",
       "      <td>0</td>\n",
       "      <td>1</td>\n",
       "      <td>0</td>\n",
       "      <td>89</td>\n",
       "      <td>170</td>\n",
       "      <td>31</td>\n",
       "      <td>3</td>\n",
       "    </tr>\n",
       "    <tr>\n",
       "      <th>389</th>\n",
       "      <td>3</td>\n",
       "      <td>27</td>\n",
       "      <td>24/02/2017</td>\n",
       "      <td>179</td>\n",
       "      <td>51</td>\n",
       "      <td>18</td>\n",
       "      <td>38</td>\n",
       "      <td>251818</td>\n",
       "      <td>96</td>\n",
       "      <td>0</td>\n",
       "      <td>1</td>\n",
       "      <td>0</td>\n",
       "      <td>1</td>\n",
       "      <td>0</td>\n",
       "      <td>89</td>\n",
       "      <td>170</td>\n",
       "      <td>31</td>\n",
       "      <td>3</td>\n",
       "    </tr>\n",
       "    <tr>\n",
       "      <th>477</th>\n",
       "      <td>24</td>\n",
       "      <td>28</td>\n",
       "      <td>25/07/2017</td>\n",
       "      <td>246</td>\n",
       "      <td>25</td>\n",
       "      <td>16</td>\n",
       "      <td>41</td>\n",
       "      <td>230290</td>\n",
       "      <td>92</td>\n",
       "      <td>0</td>\n",
       "      <td>1</td>\n",
       "      <td>0</td>\n",
       "      <td>1</td>\n",
       "      <td>0</td>\n",
       "      <td>67</td>\n",
       "      <td>170</td>\n",
       "      <td>23</td>\n",
       "      <td>2</td>\n",
       "    </tr>\n",
       "    <tr>\n",
       "      <th>496</th>\n",
       "      <td>24</td>\n",
       "      <td>28</td>\n",
       "      <td>05/09/2017</td>\n",
       "      <td>246</td>\n",
       "      <td>25</td>\n",
       "      <td>16</td>\n",
       "      <td>41</td>\n",
       "      <td>261756</td>\n",
       "      <td>87</td>\n",
       "      <td>0</td>\n",
       "      <td>1</td>\n",
       "      <td>0</td>\n",
       "      <td>1</td>\n",
       "      <td>0</td>\n",
       "      <td>67</td>\n",
       "      <td>170</td>\n",
       "      <td>23</td>\n",
       "      <td>1</td>\n",
       "    </tr>\n",
       "  </tbody>\n",
       "</table>\n",
       "</div>"
      ],
      "text/plain": [
       "     Employee_ID  Absence_Reason        Date  Transportation_Expense  \\\n",
       "127           34              27  11/01/2016                     118   \n",
       "128           34              27  12/01/2016                     118   \n",
       "131           34              27  13/01/2016                     118   \n",
       "305            5              23  19/10/2016                     235   \n",
       "388            3              27  22/02/2017                     179   \n",
       "389            3              27  24/02/2017                     179   \n",
       "477           24              28  25/07/2017                     246   \n",
       "496           24              28  05/09/2017                     246   \n",
       "\n",
       "     Distance_to_Work  Employment_Service_Time  Employee_Age  \\\n",
       "127                10                       10            37   \n",
       "128                10                       10            37   \n",
       "131                10                       10            37   \n",
       "305                20                       13            43   \n",
       "388                51                       18            38   \n",
       "389                51                       18            38   \n",
       "477                25                       16            41   \n",
       "496                25                       16            41   \n",
       "\n",
       "     Daily_Workload_Average  Target_Achievement_Rate  Disciplinary_Incident  \\\n",
       "127                  308593                       95                      0   \n",
       "128                  308593                       95                      0   \n",
       "131                  308593                       95                      0   \n",
       "305                  265017                       88                      0   \n",
       "388                  251818                       96                      0   \n",
       "389                  251818                       96                      0   \n",
       "477                  230290                       92                      0   \n",
       "496                  261756                       87                      0   \n",
       "\n",
       "     Education_Level  Children  Social_Drinker_Status  Social_Smoker_Status  \\\n",
       "127                1         0                      0                     0   \n",
       "128                1         0                      0                     0   \n",
       "131                1         0                      0                     0   \n",
       "305                1         1                      1                     0   \n",
       "388                1         0                      1                     0   \n",
       "389                1         0                      1                     0   \n",
       "477                1         0                      1                     0   \n",
       "496                1         0                      1                     0   \n",
       "\n",
       "      Employee_Weight  Employee_Height  BMI  Absence_Duration_Hours  \n",
       "127                83              172   28                       2  \n",
       "128                83              172   28                       2  \n",
       "131                83              172   28                       2  \n",
       "305               106              167   38                       2  \n",
       "388                89              170   31                       3  \n",
       "389                89              170   31                       3  \n",
       "477                67              170   23                       2  \n",
       "496                67              170   23                       1  "
      ]
     },
     "execution_count": 75,
     "metadata": {},
     "output_type": "execute_result"
    }
   ],
   "source": [
    "df[df.duplicated()]"
   ]
  },
  {
   "cell_type": "code",
   "execution_count": 76,
   "metadata": {},
   "outputs": [],
   "source": [
    "df = df.drop_duplicates()"
   ]
  },
  {
   "cell_type": "markdown",
   "metadata": {
    "id": "P6G_7eh8ymRs"
   },
   "source": [
    "<font face=\"B Mitra\">\n",
    "<div dir=rtl>\n",
    "<p align=\"justify\">\n",
    "<font size=5>\n",
    "با توجه به اینکه ویژگی Employee_ID ارزش اطلاعاتی ندارد، این ستون را حذف کنید.\n",
    "</p>\n",
    "</font>\n",
    "</div>\n",
    "</font>"
   ]
  },
  {
   "cell_type": "code",
   "execution_count": 77,
   "metadata": {
    "id": "tZ_DQRPkynMA"
   },
   "outputs": [],
   "source": [
    "# remove Employee_ID column\n",
    "df = df.drop([\"Employee_ID\"], axis=1)"
   ]
  },
  {
   "cell_type": "markdown",
   "metadata": {
    "id": "ms6ibzkLYdo1"
   },
   "source": [
    "<font face=\"B Mitra\">\n",
    "<div dir=rtl>\n",
    "<p align=\"justify\">\n",
    "<font size=5>\n",
    "<br>\n",
    "هر یک از مقادیر روزهفته ، ماه، سال را از آن استخراج کنید و در یک ستون جداگانه قرار دهید تا بتوانیم تحلیل هایی در ارتباط با تاریخ در ادامه انجام دهیم.\n",
    "<br>\n",
    "درنهایت ستون Date را حذف کنید.\n",
    "</p>\n",
    "</font>\n",
    "</div>\n",
    "</font>"
   ]
  },
  {
   "cell_type": "code",
   "execution_count": 78,
   "metadata": {
    "id": "IFoz0zSvZaM5"
   },
   "outputs": [],
   "source": [
    "dt = pd.to_datetime(df[\"Date\"], format=\"%d/%m/%Y\")\n",
    "df[\"Day\"], df[\"Month\"], df[\"Year\"] = dt.dt.day, dt.dt.month, dt.dt.year\n",
    "df[\"TimeStamp\"] = dt.astype(int) // 10**9"
   ]
  },
  {
   "cell_type": "code",
   "execution_count": 79,
   "metadata": {},
   "outputs": [
    {
     "data": {
      "text/html": [
       "<div>\n",
       "<style scoped>\n",
       "    .dataframe tbody tr th:only-of-type {\n",
       "        vertical-align: middle;\n",
       "    }\n",
       "\n",
       "    .dataframe tbody tr th {\n",
       "        vertical-align: top;\n",
       "    }\n",
       "\n",
       "    .dataframe thead th {\n",
       "        text-align: right;\n",
       "    }\n",
       "</style>\n",
       "<table border=\"1\" class=\"dataframe\">\n",
       "  <thead>\n",
       "    <tr style=\"text-align: right;\">\n",
       "      <th></th>\n",
       "      <th>Absence_Reason</th>\n",
       "      <th>Date</th>\n",
       "      <th>Transportation_Expense</th>\n",
       "      <th>Distance_to_Work</th>\n",
       "      <th>Employment_Service_Time</th>\n",
       "      <th>Employee_Age</th>\n",
       "      <th>Daily_Workload_Average</th>\n",
       "      <th>Target_Achievement_Rate</th>\n",
       "      <th>Disciplinary_Incident</th>\n",
       "      <th>Education_Level</th>\n",
       "      <th>...</th>\n",
       "      <th>Social_Drinker_Status</th>\n",
       "      <th>Social_Smoker_Status</th>\n",
       "      <th>Employee_Weight</th>\n",
       "      <th>Employee_Height</th>\n",
       "      <th>BMI</th>\n",
       "      <th>Absence_Duration_Hours</th>\n",
       "      <th>Day</th>\n",
       "      <th>Month</th>\n",
       "      <th>Year</th>\n",
       "      <th>TimeStamp</th>\n",
       "    </tr>\n",
       "  </thead>\n",
       "  <tbody>\n",
       "    <tr>\n",
       "      <th>0</th>\n",
       "      <td>26</td>\n",
       "      <td>07/07/2015</td>\n",
       "      <td>289</td>\n",
       "      <td>36</td>\n",
       "      <td>13</td>\n",
       "      <td>33</td>\n",
       "      <td>239554</td>\n",
       "      <td>97</td>\n",
       "      <td>0</td>\n",
       "      <td>1</td>\n",
       "      <td>...</td>\n",
       "      <td>1</td>\n",
       "      <td>0</td>\n",
       "      <td>90</td>\n",
       "      <td>172</td>\n",
       "      <td>30</td>\n",
       "      <td>4</td>\n",
       "      <td>7</td>\n",
       "      <td>7</td>\n",
       "      <td>2015</td>\n",
       "      <td>1436227200</td>\n",
       "    </tr>\n",
       "    <tr>\n",
       "      <th>1</th>\n",
       "      <td>0</td>\n",
       "      <td>14/07/2015</td>\n",
       "      <td>118</td>\n",
       "      <td>13</td>\n",
       "      <td>18</td>\n",
       "      <td>50</td>\n",
       "      <td>239554</td>\n",
       "      <td>97</td>\n",
       "      <td>1</td>\n",
       "      <td>1</td>\n",
       "      <td>...</td>\n",
       "      <td>1</td>\n",
       "      <td>0</td>\n",
       "      <td>98</td>\n",
       "      <td>178</td>\n",
       "      <td>31</td>\n",
       "      <td>0</td>\n",
       "      <td>14</td>\n",
       "      <td>7</td>\n",
       "      <td>2015</td>\n",
       "      <td>1436832000</td>\n",
       "    </tr>\n",
       "    <tr>\n",
       "      <th>2</th>\n",
       "      <td>23</td>\n",
       "      <td>15/07/2015</td>\n",
       "      <td>179</td>\n",
       "      <td>51</td>\n",
       "      <td>18</td>\n",
       "      <td>38</td>\n",
       "      <td>239554</td>\n",
       "      <td>97</td>\n",
       "      <td>0</td>\n",
       "      <td>1</td>\n",
       "      <td>...</td>\n",
       "      <td>1</td>\n",
       "      <td>0</td>\n",
       "      <td>89</td>\n",
       "      <td>170</td>\n",
       "      <td>31</td>\n",
       "      <td>2</td>\n",
       "      <td>15</td>\n",
       "      <td>7</td>\n",
       "      <td>2015</td>\n",
       "      <td>1436918400</td>\n",
       "    </tr>\n",
       "    <tr>\n",
       "      <th>3</th>\n",
       "      <td>7</td>\n",
       "      <td>16/07/2015</td>\n",
       "      <td>279</td>\n",
       "      <td>5</td>\n",
       "      <td>14</td>\n",
       "      <td>39</td>\n",
       "      <td>239554</td>\n",
       "      <td>97</td>\n",
       "      <td>0</td>\n",
       "      <td>1</td>\n",
       "      <td>...</td>\n",
       "      <td>1</td>\n",
       "      <td>1</td>\n",
       "      <td>68</td>\n",
       "      <td>168</td>\n",
       "      <td>24</td>\n",
       "      <td>4</td>\n",
       "      <td>16</td>\n",
       "      <td>7</td>\n",
       "      <td>2015</td>\n",
       "      <td>1437004800</td>\n",
       "    </tr>\n",
       "    <tr>\n",
       "      <th>4</th>\n",
       "      <td>23</td>\n",
       "      <td>23/07/2015</td>\n",
       "      <td>289</td>\n",
       "      <td>36</td>\n",
       "      <td>13</td>\n",
       "      <td>33</td>\n",
       "      <td>239554</td>\n",
       "      <td>97</td>\n",
       "      <td>0</td>\n",
       "      <td>1</td>\n",
       "      <td>...</td>\n",
       "      <td>1</td>\n",
       "      <td>0</td>\n",
       "      <td>90</td>\n",
       "      <td>172</td>\n",
       "      <td>30</td>\n",
       "      <td>2</td>\n",
       "      <td>23</td>\n",
       "      <td>7</td>\n",
       "      <td>2015</td>\n",
       "      <td>1437609600</td>\n",
       "    </tr>\n",
       "  </tbody>\n",
       "</table>\n",
       "<p>5 rows × 21 columns</p>\n",
       "</div>"
      ],
      "text/plain": [
       "   Absence_Reason        Date  Transportation_Expense  Distance_to_Work  \\\n",
       "0              26  07/07/2015                     289                36   \n",
       "1               0  14/07/2015                     118                13   \n",
       "2              23  15/07/2015                     179                51   \n",
       "3               7  16/07/2015                     279                 5   \n",
       "4              23  23/07/2015                     289                36   \n",
       "\n",
       "   Employment_Service_Time  Employee_Age  Daily_Workload_Average  \\\n",
       "0                       13            33                  239554   \n",
       "1                       18            50                  239554   \n",
       "2                       18            38                  239554   \n",
       "3                       14            39                  239554   \n",
       "4                       13            33                  239554   \n",
       "\n",
       "   Target_Achievement_Rate  Disciplinary_Incident  Education_Level  ...  \\\n",
       "0                       97                      0                1  ...   \n",
       "1                       97                      1                1  ...   \n",
       "2                       97                      0                1  ...   \n",
       "3                       97                      0                1  ...   \n",
       "4                       97                      0                1  ...   \n",
       "\n",
       "   Social_Drinker_Status  Social_Smoker_Status   Employee_Weight  \\\n",
       "0                      1                     0                90   \n",
       "1                      1                     0                98   \n",
       "2                      1                     0                89   \n",
       "3                      1                     1                68   \n",
       "4                      1                     0                90   \n",
       "\n",
       "   Employee_Height  BMI  Absence_Duration_Hours  Day  Month  Year   TimeStamp  \n",
       "0              172   30                       4    7      7  2015  1436227200  \n",
       "1              178   31                       0   14      7  2015  1436832000  \n",
       "2              170   31                       2   15      7  2015  1436918400  \n",
       "3              168   24                       4   16      7  2015  1437004800  \n",
       "4              172   30                       2   23      7  2015  1437609600  \n",
       "\n",
       "[5 rows x 21 columns]"
      ]
     },
     "execution_count": 79,
     "metadata": {},
     "output_type": "execute_result"
    }
   ],
   "source": [
    "df.head()"
   ]
  },
  {
   "cell_type": "code",
   "execution_count": 80,
   "metadata": {
    "id": "gkhteWL3ZiKZ"
   },
   "outputs": [],
   "source": [
    "df.drop([\"Date\"], axis=1, inplace=True)"
   ]
  },
  {
   "cell_type": "markdown",
   "metadata": {
    "id": "qTzvrSeaSktR"
   },
   "source": [
    "<font face=\"B Mitra\">\n",
    "<div dir=rtl>\n",
    "<p align=\"justify\">\n",
    "<font size=5>\n",
    "دقت کنید که ویژگی های \"Education_Level\" , \"Disciplinary_Incident\" , \"Social_Drinker_Status\"و \"Social_Smoker_Status\" ویژگی های categorical هستند که به شکل عددی یا بولی ذخیره شده اند. بنابراین میتوانیم برای نمایش بهتر ویژگی ها به فرم categorical برگردانیم.\n",
    "</p>\n",
    "</font>\n",
    "</div>\n",
    "</font>"
   ]
  },
  {
   "cell_type": "code",
   "execution_count": 81,
   "metadata": {
    "id": "dNiKFc1RS6Rs"
   },
   "outputs": [],
   "source": [
    "education_encoding = {\n",
    "    1: \"high_school\",\n",
    "    2: \"graduate\",\n",
    "    3: \"postgraduate\",\n",
    "    4: \"master_phd\",\n",
    "}\n",
    "yes_no_encoding = {0: \"No\", 1: \"Yes\"}\n",
    "\n",
    "df[\"Education_Level\"] = df[\"Education_Level\"].map(education_encoding)\n",
    "df[\"Social_Drinker_Status\"] = df[\"Social_Drinker_Status\"].map(yes_no_encoding)\n",
    "df[\"Social_Smoker_Status\"] = df[\"Social_Smoker_Status\"].map(yes_no_encoding)\n",
    "df[\"Disciplinary_Incident\"] = df[\"Disciplinary_Incident\"].map(yes_no_encoding)"
   ]
  },
  {
   "cell_type": "code",
   "execution_count": 82,
   "metadata": {},
   "outputs": [
    {
     "data": {
      "text/html": [
       "<div>\n",
       "<style scoped>\n",
       "    .dataframe tbody tr th:only-of-type {\n",
       "        vertical-align: middle;\n",
       "    }\n",
       "\n",
       "    .dataframe tbody tr th {\n",
       "        vertical-align: top;\n",
       "    }\n",
       "\n",
       "    .dataframe thead th {\n",
       "        text-align: right;\n",
       "    }\n",
       "</style>\n",
       "<table border=\"1\" class=\"dataframe\">\n",
       "  <thead>\n",
       "    <tr style=\"text-align: right;\">\n",
       "      <th></th>\n",
       "      <th>Absence_Reason</th>\n",
       "      <th>Transportation_Expense</th>\n",
       "      <th>Distance_to_Work</th>\n",
       "      <th>Employment_Service_Time</th>\n",
       "      <th>Employee_Age</th>\n",
       "      <th>Daily_Workload_Average</th>\n",
       "      <th>Target_Achievement_Rate</th>\n",
       "      <th>Disciplinary_Incident</th>\n",
       "      <th>Education_Level</th>\n",
       "      <th>Children</th>\n",
       "      <th>Social_Drinker_Status</th>\n",
       "      <th>Social_Smoker_Status</th>\n",
       "      <th>Employee_Weight</th>\n",
       "      <th>Employee_Height</th>\n",
       "      <th>BMI</th>\n",
       "      <th>Absence_Duration_Hours</th>\n",
       "      <th>Day</th>\n",
       "      <th>Month</th>\n",
       "      <th>Year</th>\n",
       "      <th>TimeStamp</th>\n",
       "    </tr>\n",
       "  </thead>\n",
       "  <tbody>\n",
       "    <tr>\n",
       "      <th>0</th>\n",
       "      <td>26</td>\n",
       "      <td>289</td>\n",
       "      <td>36</td>\n",
       "      <td>13</td>\n",
       "      <td>33</td>\n",
       "      <td>239554</td>\n",
       "      <td>97</td>\n",
       "      <td>No</td>\n",
       "      <td>high_school</td>\n",
       "      <td>2</td>\n",
       "      <td>Yes</td>\n",
       "      <td>No</td>\n",
       "      <td>90</td>\n",
       "      <td>172</td>\n",
       "      <td>30</td>\n",
       "      <td>4</td>\n",
       "      <td>7</td>\n",
       "      <td>7</td>\n",
       "      <td>2015</td>\n",
       "      <td>1436227200</td>\n",
       "    </tr>\n",
       "    <tr>\n",
       "      <th>1</th>\n",
       "      <td>0</td>\n",
       "      <td>118</td>\n",
       "      <td>13</td>\n",
       "      <td>18</td>\n",
       "      <td>50</td>\n",
       "      <td>239554</td>\n",
       "      <td>97</td>\n",
       "      <td>Yes</td>\n",
       "      <td>high_school</td>\n",
       "      <td>1</td>\n",
       "      <td>Yes</td>\n",
       "      <td>No</td>\n",
       "      <td>98</td>\n",
       "      <td>178</td>\n",
       "      <td>31</td>\n",
       "      <td>0</td>\n",
       "      <td>14</td>\n",
       "      <td>7</td>\n",
       "      <td>2015</td>\n",
       "      <td>1436832000</td>\n",
       "    </tr>\n",
       "    <tr>\n",
       "      <th>2</th>\n",
       "      <td>23</td>\n",
       "      <td>179</td>\n",
       "      <td>51</td>\n",
       "      <td>18</td>\n",
       "      <td>38</td>\n",
       "      <td>239554</td>\n",
       "      <td>97</td>\n",
       "      <td>No</td>\n",
       "      <td>high_school</td>\n",
       "      <td>0</td>\n",
       "      <td>Yes</td>\n",
       "      <td>No</td>\n",
       "      <td>89</td>\n",
       "      <td>170</td>\n",
       "      <td>31</td>\n",
       "      <td>2</td>\n",
       "      <td>15</td>\n",
       "      <td>7</td>\n",
       "      <td>2015</td>\n",
       "      <td>1436918400</td>\n",
       "    </tr>\n",
       "    <tr>\n",
       "      <th>3</th>\n",
       "      <td>7</td>\n",
       "      <td>279</td>\n",
       "      <td>5</td>\n",
       "      <td>14</td>\n",
       "      <td>39</td>\n",
       "      <td>239554</td>\n",
       "      <td>97</td>\n",
       "      <td>No</td>\n",
       "      <td>high_school</td>\n",
       "      <td>2</td>\n",
       "      <td>Yes</td>\n",
       "      <td>Yes</td>\n",
       "      <td>68</td>\n",
       "      <td>168</td>\n",
       "      <td>24</td>\n",
       "      <td>4</td>\n",
       "      <td>16</td>\n",
       "      <td>7</td>\n",
       "      <td>2015</td>\n",
       "      <td>1437004800</td>\n",
       "    </tr>\n",
       "    <tr>\n",
       "      <th>4</th>\n",
       "      <td>23</td>\n",
       "      <td>289</td>\n",
       "      <td>36</td>\n",
       "      <td>13</td>\n",
       "      <td>33</td>\n",
       "      <td>239554</td>\n",
       "      <td>97</td>\n",
       "      <td>No</td>\n",
       "      <td>high_school</td>\n",
       "      <td>2</td>\n",
       "      <td>Yes</td>\n",
       "      <td>No</td>\n",
       "      <td>90</td>\n",
       "      <td>172</td>\n",
       "      <td>30</td>\n",
       "      <td>2</td>\n",
       "      <td>23</td>\n",
       "      <td>7</td>\n",
       "      <td>2015</td>\n",
       "      <td>1437609600</td>\n",
       "    </tr>\n",
       "  </tbody>\n",
       "</table>\n",
       "</div>"
      ],
      "text/plain": [
       "   Absence_Reason  Transportation_Expense  Distance_to_Work  \\\n",
       "0              26                     289                36   \n",
       "1               0                     118                13   \n",
       "2              23                     179                51   \n",
       "3               7                     279                 5   \n",
       "4              23                     289                36   \n",
       "\n",
       "   Employment_Service_Time  Employee_Age  Daily_Workload_Average  \\\n",
       "0                       13            33                  239554   \n",
       "1                       18            50                  239554   \n",
       "2                       18            38                  239554   \n",
       "3                       14            39                  239554   \n",
       "4                       13            33                  239554   \n",
       "\n",
       "   Target_Achievement_Rate Disciplinary_Incident Education_Level  Children  \\\n",
       "0                       97                    No     high_school         2   \n",
       "1                       97                   Yes     high_school         1   \n",
       "2                       97                    No     high_school         0   \n",
       "3                       97                    No     high_school         2   \n",
       "4                       97                    No     high_school         2   \n",
       "\n",
       "  Social_Drinker_Status Social_Smoker_Status   Employee_Weight  \\\n",
       "0                   Yes                   No                90   \n",
       "1                   Yes                   No                98   \n",
       "2                   Yes                   No                89   \n",
       "3                   Yes                  Yes                68   \n",
       "4                   Yes                   No                90   \n",
       "\n",
       "   Employee_Height  BMI  Absence_Duration_Hours  Day  Month  Year   TimeStamp  \n",
       "0              172   30                       4    7      7  2015  1436227200  \n",
       "1              178   31                       0   14      7  2015  1436832000  \n",
       "2              170   31                       2   15      7  2015  1436918400  \n",
       "3              168   24                       4   16      7  2015  1437004800  \n",
       "4              172   30                       2   23      7  2015  1437609600  "
      ]
     },
     "execution_count": 82,
     "metadata": {},
     "output_type": "execute_result"
    }
   ],
   "source": [
    "df.head()"
   ]
  },
  {
   "cell_type": "markdown",
   "metadata": {
    "id": "5cOlO7opikVt"
   },
   "source": [
    "<font face=\"B Mitra\">\n",
    "<div dir=rtl>\n",
    "<font size=6>\n",
    "<b> EDA </b>\n",
    "<p align=\"justify\">\n",
    "<font size=5>\n",
    "ما تلاش خواهیم کرد تا به سوالاتی مانند،  کدام عامل بیشترین غیبت را ایجاد می‌کند؟ آیا مصرف الکل یا دخانیات تأثیری بر دلایل دارد؟ آیا فاصله تا محل کار تأثیری بر علت غیبت دارد؟ و غیره، پاسخ دهیم. شروع با این نوع سوالات هنگام تحلیل داده اغلب مهم است ، زیرا این روش یک راه خوب برای به دست آوردن اطمینان و درک از داده‌هاست.\n",
    "</p>\n",
    "</font>\n",
    "<font size=5>\n",
    "<b>1.تشخیص دلایل غیبت </b>\n",
    "<br>\n",
    "1.1. در ابتدا با استفاده از barplot و ویژگی Absence_Reason بررسی کنید سه دلیل پرتکرار غیبت در بین کارمندان چیست.\n",
    "</div>\n",
    "</font>"
   ]
  },
  {
   "cell_type": "code",
   "execution_count": 83,
   "metadata": {
    "id": "wSlx0FphBBuX"
   },
   "outputs": [
    {
     "name": "stderr",
     "output_type": "stream",
     "text": [
      "/tmp/ipykernel_12865/991680500.py:7: FutureWarning: \n",
      "\n",
      "Passing `palette` without assigning `hue` is deprecated and will be removed in v0.14.0. Assign the `y` variable to `hue` and set `legend=False` for the same effect.\n",
      "\n",
      "  sns.countplot(\n"
     ]
    },
    {
     "data": {
      "image/png": "[encoded data removed]",
      "text/plain": [
       "<Figure size 1200x600 with 1 Axes>"
      ]
     },
     "metadata": {},
     "output_type": "display_data"
    }
   ],
   "source": [
    "unique_reasons = df[\"Absence_Reason\"].unique()\n",
    "\n",
    "num_colors = len(unique_reasons)\n",
    "random_colors = sns.color_palette(\"husl\", num_colors)\n",
    "\n",
    "plt.figure(figsize=(12, 6))\n",
    "sns.countplot(\n",
    "    data=df,\n",
    "    y=\"Absence_Reason\",\n",
    "    order=df[\"Absence_Reason\"].value_counts().index,\n",
    "    palette=random_colors,\n",
    ")\n",
    "plt.title(\"Absence Reason Distribution\")\n",
    "plt.show()"
   ]
  },
  {
   "cell_type": "markdown",
   "metadata": {
    "id": "CSyv2ElUq08W"
   },
   "source": [
    "<div dir=\"rtl\">\n",
    "  <h3 style=\"color: rgb(28, 139, 0)\">پاسخ</h3>\n",
    "  <p\n",
    "    style=\"\n",
    "      margin: 1.5rem;\n",
    "      color: rgb(166, 255, 0);\n",
    "      background-color: rgb(66, 66, 66);\n",
    "      padding: 1rem;\n",
    "      border-radius: 1rem;\n",
    "    \"\n",
    "  >\n",
    "    با توجه به نتایج به دست آمده می‌توان به این نتیجه رسید که بیشترین دلایل غیبت\n",
    "    کارمندان به ترتیب برابر است با مشاوره‌ی پزشکی با حدود140نفر و پس از آن\n",
    "    مشاوره‌ی دندان با حدود ۱۲۰ و فیزیوتراپی با حدود ۸۰ نفر جمعیت و کمترین آمار\n",
    "    هم مرتبط است با Congenital malformations, deformations and chromosomal\n",
    "    abnormalities که گوگل ترنسیلت میگه ترجمش می‌شه مشکلات مادرزادی و ...و مشکلات\n",
    "    خونی. البته یک سری چیز‌ها مانند بارداری و ... هم هست که چون مختص زنان است\n",
    "    آمار کمی را به خود اختصاص داده است.\n",
    "  </p>\n",
    "</div>\n"
   ]
  },
  {
   "cell_type": "markdown",
   "metadata": {
    "id": "kyzcEchx_qDO"
   },
   "source": [
    "<font face=\"B Mitra\">\n",
    "<div dir=rtl>\n",
    "<font size=5>\n",
    "2.1. توجه داشته باشید که فقط مقادیر 1 تا 21 کدهای موجود در جدول ICD را نشان میدهد.از آنجایی که تمام مقادیر موجود در ICD نشاندهنده یک نوع بیماری است،\n",
    "یک متغیر binary جدید تحت عنوان Disease تعریف کنید که بررسی کند دلیل غیبت  برای هر شخص در بازه ICD قرار دارد یا خیر.\n",
    "</div>\n",
    "</font>"
   ]
  },
  {
   "cell_type": "code",
   "execution_count": 84,
   "metadata": {
    "id": "iS3VEd792R0C"
   },
   "outputs": [],
   "source": [
    "def in_icd(val: int) -> bool:\n",
    "    if val in range(1, 22):\n",
    "        return True\n",
    "    else:\n",
    "        return False\n",
    "\n",
    "\n",
    "df[\"Disease\"] = df[\"Absence_Reason\"].apply(in_icd)"
   ]
  },
  {
   "cell_type": "markdown",
   "metadata": {
    "id": "qwf7LuN77ask"
   },
   "source": [
    "<font face=\"B Mitra\">\n",
    "<div dir=rtl>\n",
    "<p align=\"justify\">\n",
    "<font size=5>\n",
    "3.1. سپس از barplot برای مقایسه تعداد افراد دو گروه بالا استفاده کنید.\n",
    "<br>\n",
    "تحلیل خود را از این نمودار بیان کنید.\n",
    "</p>\n",
    "</font>\n",
    "</div>\n",
    "</font>"
   ]
  },
  {
   "cell_type": "code",
   "execution_count": 85,
   "metadata": {
    "id": "ylkSy6kS7UxJ"
   },
   "outputs": [
    {
     "name": "stderr",
     "output_type": "stream",
     "text": [
      "/tmp/ipykernel_12865/3321855888.py:2: FutureWarning: \n",
      "\n",
      "Passing `palette` without assigning `hue` is deprecated and will be removed in v0.14.0. Assign the `y` variable to `hue` and set `legend=False` for the same effect.\n",
      "\n",
      "  sns.countplot(\n"
     ]
    },
    {
     "data": {
      "image/png": "[encoded data removed]",
      "text/plain": [
       "<Figure size 1200x600 with 1 Axes>"
      ]
     },
     "metadata": {},
     "output_type": "display_data"
    }
   ],
   "source": [
    "plt.figure(figsize=(12, 6))\n",
    "sns.countplot(\n",
    "    data=df,\n",
    "    y=\"Disease\",\n",
    "    order=df[\"Disease\"].value_counts().index,\n",
    "    palette=[\"red\", \"green\"],\n",
    ")\n",
    "plt.title(\"Disease Distribution\")\n",
    "plt.show()"
   ]
  },
  {
   "cell_type": "markdown",
   "metadata": {
    "id": "NsPpConxrlx2"
   },
   "source": [
    "<div dir=\"rtl\">\n",
    "  <h3 style=\"color: rgb(28, 139, 0)\">پاسخ</h3>\n",
    "  <p\n",
    "    style=\"\n",
    "      margin: 1.5rem;\n",
    "      color: rgb(166, 255, 0);\n",
    "      background-color: rgb(66, 66, 66);\n",
    "      padding: 1rem;\n",
    "      border-radius: 1rem;\n",
    "    \"\n",
    "  >\n",
    "    از این مقایسه می‌شه نتیجه گرفت که بیشتر دلایل غیبت‌ها بر اساس دلایلی بجز\n",
    "    بیماری هست و همونطور که بالاتر توضیح داده شد بیشتر دلایل مشاوره پزشکی و\n",
    "    دندون و ... هست. و در بازه‌ی icd قرار نمی‌گیره.\n",
    "  </p>\n",
    "</div>\n"
   ]
  },
  {
   "cell_type": "markdown",
   "metadata": {
    "id": "4_cZ8KQM_Po8"
   },
   "source": [
    "<font face=\"B Mitra\">\n",
    "<div dir=rtl>\n",
    "<font size=5>\n",
    "<b> 2. تحلیل مصرف کنندگان الکل و سیگار </b>\n",
    "<p align=\"justify\">\n",
    "<font size=5>\n",
    "با تجزیه و تحلیل تأثیر مصرف الکل یا دخانیات بر غیبت کارکنان شروع کنیم. با توجه به اینکه سیگار کشیدن و مصرف مکرر الکل تأثیر منفی بر شرایط سلامتی دارند، انتظار داریم که برخی از بیماری‌ها در سیگاری‌ها و مصرف‌کنندگان الکل بیشتر از دیگران باشند.\n",
    "<br>\n",
    "1.2. بررسی کنید چند درصد از غیبت ها،از گروه مصرف کننده الکل و چند درصد سیگاری هستند.\n",
    "</p>\n",
    "</font>\n",
    "</div>\n",
    "</font>"
   ]
  },
  {
   "cell_type": "code",
   "execution_count": 110,
   "metadata": {},
   "outputs": [
    {
     "data": {
      "image/png": "[encoded data removed]",
      "text/plain": [
       "<Figure size 1200x600 with 2 Axes>"
      ]
     },
     "metadata": {},
     "output_type": "display_data"
    }
   ],
   "source": [
    "is_smoking = df[df[\"Social_Smoker_Status\"] == \"Yes\"].shape[0]\n",
    "is_drinking = df[df[\"Social_Drinker_Status\"] == \"Yes\"].shape[0]\n",
    "\n",
    "# subplot 2\n",
    "plt.figure(figsize=(12, 6))\n",
    "plt.subplot(1, 2, 1)\n",
    "plt.pie(\n",
    "    [is_smoking, df.shape[0] - is_smoking],\n",
    "    labels=[\"Smoking\", \"Non-Smoking\"],\n",
    "    autopct=\"%1.1f%%\",\n",
    "    colors=[\"red\", \"green\"],\n",
    ")\n",
    "plt.title(\"Smoking Status\")\n",
    "plt.subplot(1, 2, 2)\n",
    "plt.pie(\n",
    "    [is_drinking, df.shape[0] - is_drinking],\n",
    "    labels=[\"Drinking\", \"Non-Drinking\"],\n",
    "    autopct=\"%1.1f%%\",\n",
    "    colors=[\"blue\", \"orange\"],\n",
    ")\n",
    "plt.title(\"Drinking Status\")\n",
    "plt.show()"
   ]
  },
  {
   "cell_type": "markdown",
   "metadata": {
    "id": "FoBl9ZHeIGA0"
   },
   "source": [
    "<font face=\"B Mitra\">\n",
    "<div dir=rtl>\n",
    "<p align=\"justify\">\n",
    "<font size=5>\n",
    "2.2. با توجه به درصد قابل توجه مصرف کنندگان الکل، با استفاده از barplot توزیع دلایل غیبت را در میان مصرف کنندگان الکل نشان دهید.\n",
    "همچنین  با تحلیل بصری این نمودار بررسی کنید که بیشترین اختلاف بین مصرف کنندگان الکل و سایرین در غیبت کاری، مرتبط با چه دلیلی است.\n",
    "</p>\n",
    "</font>\n",
    "</div>\n",
    "</font>"
   ]
  },
  {
   "cell_type": "code",
   "execution_count": 111,
   "metadata": {
    "id": "5UV36LOlLPcc"
   },
   "outputs": [
    {
     "data": {
      "image/png": "[encoded data removed]",
      "text/plain": [
       "<Figure size 1200x600 with 1 Axes>"
      ]
     },
     "metadata": {},
     "output_type": "display_data"
    }
   ],
   "source": [
    "# absences based on drining status\n",
    "plt.figure(figsize=(12, 6))\n",
    "sns.countplot(\n",
    "    data=df,\n",
    "    x=\"Social_Drinker_Status\",\n",
    "    hue=\"Absence_Reason\",\n",
    "    palette=random_colors,\n",
    ")\n",
    "plt.title(\"Absences based on Drinking Status\")\n",
    "plt.show()"
   ]
  },
  {
   "cell_type": "markdown",
   "metadata": {
    "id": "vlnA4gPGryFq"
   },
   "source": [
    "<div dir=\"rtl\">\n",
    "  <h3 style=\"color: rgb(28, 139, 0)\">پاسخ</h3>\n",
    "  <p\n",
    "    style=\"\n",
    "      margin: 1.5rem;\n",
    "      color: rgb(166, 255, 0);\n",
    "      background-color: rgb(66, 66, 66);\n",
    "      padding: 1rem;\n",
    "      border-radius: 1rem;\n",
    "    \"\n",
    "  >\n",
    "    با توجه به نمودار بالا و تعداد بالای انسان‌های معتاد به الکل می‌توان نتیجه\n",
    "    گرفت بیشتر کسانی که الکی می‌نوشند و غیبت دارد غیبت آن‌ها به دلیل مشاوره‌ی پزشکی و دندان پزشکی است.\n",
    "  </p>\n",
    "</div>\n"
   ]
  },
  {
   "cell_type": "markdown",
   "metadata": {
    "id": "V_8M9qvaJRk3"
   },
   "source": [
    "<font face=\"B Mitra\">\n",
    "<div dir=rtl>\n",
    "<p align=\"justify\">\n",
    "<font size=5>\n",
    "3.2. برای تکمیل تحلیل مصرف کنندگان الکل و سیگار، با استفاده از violin plot توزیع تعداد ساعات غیبت را بین دو کلاس(مصرف کنندگان الکل و سایرین) بررسی کنید.\n",
    "<br>\n",
    "این تحلیل را به صورت مشابه برای افراد سیگار و سایرین انجام دهید.\n",
    "<br>\n",
    "همچنین توضیح دهید که violin plot برای تحلیل بصری در چه مواقعی مناسب است.\n",
    "</p>\n",
    "</font>\n",
    "</div>\n",
    "</font>"
   ]
  },
  {
   "cell_type": "code",
   "execution_count": 88,
   "metadata": {
    "id": "i6xlxSjbcegL"
   },
   "outputs": [],
   "source": [
    "# FILL HERE"
   ]
  },
  {
   "cell_type": "markdown",
   "metadata": {
    "id": "JObEG5dsrz7i"
   },
   "source": [
    "<font face=\"B Mitra\">\n",
    "<div dir=rtl>\n",
    "<p align=\"justify\">\n",
    "<font size=4>\n",
    "<b> <font color='red'> توضیحات پاسخ: </font></b>  لطفا اینجا بنویسید\n",
    "</p>\n",
    "</font>\n",
    "</div>\n",
    "</font>\n",
    "<hr>"
   ]
  },
  {
   "cell_type": "markdown",
   "metadata": {
    "id": "0mxcDXj3odXC"
   },
   "source": [
    "<font face=\"B Mitra\">\n",
    "<div dir=rtl>\n",
    "<font size=5>\n",
    "<b> 3. فاکتورهای هزینه حمل و نقل و فاصله تا محل کار </b>\n",
    "<p align=\"justify\">\n",
    "<font size=5>\n",
    "دو شاخص ممکن برای غیبت ممکن است فاصله بین خانه و محل کار و هزینه‌های حمل و نقل (ستون هزینه حمل و نقل) باشد. کارمندانی که باید مسافت بیشتری را طی کنند یا هزینه‌های حمل و نقل به محل کار آن‌ها بالاتر است، ممکن است به غیبت بیشتری دچار شوند. در این بخش، رابطه بین این متغیرها و زمان غیبت به ساعت را بررسی خواهیم کرد.\n",
    "<br>\n",
    " از آنجا که ما اعتقاد نداریم که عوامل مذکور ممکن است نشان‌دهنده مشکلات بیماری باشند به معنای دیگر به طور ذاتی عامل بیماری نباشد، ما رابطه ممکن با ستون دلیل غیبت را در نظر نخواهیم گرفت و به بررسی رابطه آن با زمان غیبت بسنده میکنیم.\n",
    "<br>\n",
    "1.3. با استفاده از joint plot رابطه بین فاصله محل اقامت تا کار و ساعات غیبت را نمایش دهید.\n",
    "<br>\n",
    "تحلیل بصری مشابهی برای ویژگی هزینه های حمل و نقل انجام دهید.\n",
    "<br> درمورد نمودار jointplot و موارد کاربرد آن توضیح دهید.\n",
    "</p>\n",
    "</font>\n",
    "</div>\n",
    "</font>"
   ]
  },
  {
   "cell_type": "code",
   "execution_count": 89,
   "metadata": {
    "id": "UJ11qn8-Eblg"
   },
   "outputs": [],
   "source": [
    "# FILL HERE"
   ]
  },
  {
   "cell_type": "markdown",
   "metadata": {
    "id": "Y13baPQdsR1P"
   },
   "source": [
    "<font face=\"B Mitra\">\n",
    "<div dir=rtl>\n",
    "<p align=\"justify\">\n",
    "<font size=4>\n",
    "<b> <font color='red'> توضیحات پاسخ: </font></b>  لطفا اینجا بنویسید\n",
    "</p>\n",
    "</font>\n",
    "</div>\n",
    "</font>\n",
    "<hr>"
   ]
  },
  {
   "cell_type": "markdown",
   "metadata": {
    "id": "-GUpwc92AoaW"
   },
   "source": [
    "<font face=\"B Mitra\">\n",
    "<div dir=rtl>\n",
    "<p align=\"justify\">\n",
    "<font size=5>\n",
    "همانطور که مشاهده می‌شود، توزیع فواصل از محل اقامت تا محل کار و هزینه‌های حمل و نقل به نظر نزدیک به توزیع‌های نرمال می‌آید، در حالی که زمان غیبت به ساعت‌ها به شدت به سمت راست منحرف شده است. این موضوع باعث می‌شود مقایسه بین متغیرها دشوار باشد. یکی از راه‌حل‌های این مشکل، تبدیل داده‌ها به چیزی نزدیک به توزیع نرمال است. روشی موثر برای انجام این تبدیل، استفاده از تبدیل‌های Box-Cox یا Yeo-Johnson است که هر دو در کتابخانه scipy موجود است.\n",
    "\n",
    "2.3. با توجه به اینکه ستون زمان غیبت شامل مقادیر صفر است از از تبدیل Yeo-Johnson استفاده کنید.\n",
    "<br>\n",
    "سپس هر دو نمودار بالا را مجددا رسم کنید و با تحلیل این این نمودارها درمورد تاثیرگذاری این دو فاکتور بر روی زمان غیبت توضیح دهید.\n",
    "</p>\n",
    "</font>\n",
    "</div>\n",
    "</font>"
   ]
  },
  {
   "cell_type": "code",
   "execution_count": 90,
   "metadata": {
    "id": "q8NiwvwsEeDX"
   },
   "outputs": [],
   "source": [
    "# FILL HERE"
   ]
  },
  {
   "cell_type": "markdown",
   "metadata": {
    "id": "hmVgJgtBsVuS"
   },
   "source": [
    "<font face=\"B Mitra\">\n",
    "<div dir=rtl>\n",
    "<p align=\"justify\">\n",
    "<font size=4>\n",
    "<b> <font color='red'> توضیحات پاسخ: </font></b>  لطفا اینجا بنویسید\n",
    "</p>\n",
    "</font>\n",
    "</div>\n",
    "</font>\n",
    "<hr>"
   ]
  },
  {
   "cell_type": "markdown",
   "metadata": {
    "id": "NNa-C0poJ0Vv"
   },
   "source": [
    "<font face=\"B Mitra\">\n",
    "<div dir=rtl>\n",
    "<font size=5>\n",
    "<b> 4 . همبستگی </b>\n",
    "<p align=\"justify\">\n",
    "<font size=5>\n",
    "با استفاده از heatmap همبستگی بین ویژگی ها را بررسی کنید.\n",
    "<br>\n",
    "درمورد نمودار heatmap و عملکرد آن به طور مختصر توضیح دهید.\n",
    "</p>\n",
    "</font>\n",
    "</div>\n",
    "</font>"
   ]
  },
  {
   "cell_type": "code",
   "execution_count": null,
   "metadata": {
    "id": "l8EzDqOOsW5I"
   },
   "outputs": [],
   "source": []
  },
  {
   "cell_type": "markdown",
   "metadata": {
    "id": "_yZ41l-ysYXX"
   },
   "source": [
    "<font face=\"B Mitra\">\n",
    "<div dir=rtl>\n",
    "<p align=\"justify\">\n",
    "<font size=4>\n",
    "<b> <font color='red'> توضیحات پاسخ: </font></b>  لطفا اینجا بنویسید\n",
    "</p>\n",
    "</font>\n",
    "</div>\n",
    "</font>\n",
    "<hr>"
   ]
  },
  {
   "cell_type": "markdown",
   "metadata": {
    "id": "V27aeXiALYwM"
   },
   "source": [
    "<font face=\"B Mitra\">\n",
    "<div dir=rtl>\n",
    "<font size=5>\n",
    "<b> 5 . سن </b>\n",
    "<p align=\"justify\">\n",
    "<font size=5>\n",
    "سن نیز ممکن است بر غیبت کارمندان تاثیر بگذارد.کارمندان سنین بالاتر ممکن است نیاز به درمان‌های پزشکی مکرر داشته باشند.\n",
    "<br>\n",
    "1.5. با استفاده از نمودار displot درمورد توزیع سن  کارمندان و چولگی نمودار بحث کنید.\n",
    "<br>\n",
    "2.5. جهت بررسی تاثیر سن در بیماری ها، با استفاده از violin plot توزیع سن بین دو گروه افراد براساس  ویژگی \"Disease\"  در قسمت 1 را نمایش دهید و تحلیل خود را از این نمودار بیان کنید.\n",
    "<br>\n",
    "3.5. با استفاده از barplot بررسی کنید آیا افراد با سنین بالاتر ساعات بیشتری غیبت میکنند؟\n",
    "</p>\n",
    "</font>\n",
    "</div>\n",
    "</font>"
   ]
  },
  {
   "cell_type": "code",
   "execution_count": 91,
   "metadata": {
    "id": "XUwupS3YOozW"
   },
   "outputs": [],
   "source": [
    "# FILL HERE"
   ]
  },
  {
   "cell_type": "markdown",
   "metadata": {
    "id": "vDg06bq1sabn"
   },
   "source": [
    "<font face=\"B Mitra\">\n",
    "<div dir=rtl>\n",
    "<p align=\"justify\">\n",
    "<font size=4>\n",
    "<b> <font color='red'> توضیحات پاسخ: </font></b>  لطفا اینجا بنویسید\n",
    "</p>\n",
    "</font>\n",
    "</div>\n",
    "</font>\n",
    "<hr>"
   ]
  },
  {
   "cell_type": "markdown",
   "metadata": {
    "id": "9rq9pG3_Wk_C"
   },
   "source": [
    "<font face=\"B Mitra\">\n",
    "<div dir=rtl>\n",
    "<p align=\"justify\">\n",
    "<font size=5>\n",
    "2.5. جهت بررسی تاثیر سن در بیماری ها، با استفاده از violin plot توزیع سن بین دو گروه افراد براساس  ویژگی \"Disease\"  در قسمت 1 را نمایش دهید و تحلیل خود را از این نمودار بیان کنید.\n",
    "</p>\n",
    "</font>\n",
    "</div>\n",
    "</font>"
   ]
  },
  {
   "cell_type": "code",
   "execution_count": 92,
   "metadata": {
    "id": "5WByf461WvMA"
   },
   "outputs": [],
   "source": [
    "# FILL HERE"
   ]
  },
  {
   "cell_type": "markdown",
   "metadata": {
    "id": "huziNUV7WzuH"
   },
   "source": [
    "<font face=\"B Mitra\">\n",
    "<div dir=rtl>\n",
    "<p align=\"justify\">\n",
    "<font size=4>\n",
    "<b> <font color='red'> توضیحات پاسخ: </font></b>  لطفا اینجا بنویسید\n",
    "</p>\n",
    "</font>\n",
    "</div>\n",
    "</font>\n",
    "<hr>"
   ]
  },
  {
   "cell_type": "markdown",
   "metadata": {
    "id": "aPbjd1S7WrOV"
   },
   "source": [
    "<font face=\"B Mitra\">\n",
    "<div dir=rtl>\n",
    "<p align=\"justify\">\n",
    "<font size=5>\n",
    "3.5. با استفاده از barplot در بازه های ده ساله بررسی کنید آیا افراد با سنین بالاتر ساعات بیشتری غیبت میکنند؟\n",
    "</p>\n",
    "</font>\n",
    "</div>\n",
    "</font>"
   ]
  },
  {
   "cell_type": "code",
   "execution_count": 93,
   "metadata": {
    "id": "U7VOvd4OWv-a"
   },
   "outputs": [
    {
     "data": {
      "text/plain": [
       "array([33, 50, 38, 39, 28, 36, 34, 37, 41, 47, 29, 48, 32, 27, 43, 40, 31,\n",
       "       30, 49, 58, 46])"
      ]
     },
     "execution_count": 93,
     "metadata": {},
     "output_type": "execute_result"
    }
   ],
   "source": [
    "age_range = df[\"Employee_Age\"].unique()\n",
    "age_range"
   ]
  },
  {
   "cell_type": "code",
   "execution_count": 94,
   "metadata": {
    "id": "Uq2pJ_ELYiIs"
   },
   "outputs": [
    {
     "data": {
      "text/plain": [
       "<Figure size 600x400 with 0 Axes>"
      ]
     },
     "execution_count": 94,
     "metadata": {},
     "output_type": "execute_result"
    },
    {
     "data": {
      "text/plain": [
       "<Figure size 600x400 with 0 Axes>"
      ]
     },
     "metadata": {},
     "output_type": "display_data"
    }
   ],
   "source": [
    "df[\"Age_Group\"] = pd.cut(df[\"Employee_Age\"], bins=np.arange(20, 70, 10), right=False)\n",
    "plt.figure(figsize=(6, 4))\n",
    "# FILL HERE"
   ]
  },
  {
   "cell_type": "markdown",
   "metadata": {
    "id": "sHUdWxmJW06y"
   },
   "source": [
    "<font face=\"B Mitra\">\n",
    "<div dir=rtl>\n",
    "<p align=\"justify\">\n",
    "<font size=4>\n",
    "<b> <font color='red'> توضیحات پاسخ: </font></b>  لطفا اینجا بنویسید\n",
    "</p>\n",
    "</font>\n",
    "</div>\n",
    "</font>\n",
    "<hr>"
   ]
  },
  {
   "cell_type": "markdown",
   "metadata": {
    "id": "JrtcwpP4_9PT"
   },
   "source": [
    "<font face=\"B Mitra\">\n",
    "<div dir=rtl>\n",
    "<p align=\"justify\">\n",
    "<font size=5>\n",
    "\n",
    "</p>\n",
    "</font>\n",
    "</div>\n",
    "</font>"
   ]
  },
  {
   "cell_type": "markdown",
   "metadata": {
    "id": "dkHqfufZdNdA"
   },
   "source": [
    "<font face=\"B Mitra\">\n",
    "<div dir=rtl>\n",
    "<font size=5>\n",
    "<b> 6. بررسی سایر فاکتورها </b>\n",
    "<p align=\"justify\">\n",
    "<font size=5>\n",
    "1.6. با استفاده از نمودارها و روش های مناسب تاثیرگذاری این عوامل را در مرخصی کارمندان بررسی کنید.\n",
    "<br>\n",
    "\n",
    "1.   تحصیلات:\n",
    "کارمندان با مدارک تحصیلی بالاتر که مسئولیت‌های بالاتری را بر عهده دارند، ممکن است کمتر به مشکلاتی از این دست دچار شوند.\n",
    "2.  بررسی ساعت‌های غیبت بر اساس روز هفته و ماه سال\n",
    "3. تعداد فرزندان\n",
    "\n",
    "</p>\n",
    "</font>\n",
    "</div>\n",
    "</font>"
   ]
  },
  {
   "cell_type": "code",
   "execution_count": 95,
   "metadata": {
    "id": "eGcCiizDseHi"
   },
   "outputs": [],
   "source": [
    "# FILL HERE"
   ]
  },
  {
   "cell_type": "markdown",
   "metadata": {
    "id": "q6r6cYy3seWF"
   },
   "source": [
    "<font face=\"B Mitra\">\n",
    "<div dir=rtl>\n",
    "<p align=\"justify\">\n",
    "<font size=4>\n",
    "<b> <font color='red'> توضیحات پاسخ: </font></b>  لطفا اینجا بنویسید\n",
    "</p>\n",
    "</font>\n",
    "</div>\n",
    "</font>\n",
    "<hr>"
   ]
  }
 ],
 "metadata": {
  "colab": {
   "provenance": []
  },
  "kernelspec": {
   "display_name": "Python 3",
   "name": "python3"
  },
  "language_info": {
   "codemirror_mode": {
    "name": "ipython",
    "version": 3
   },
   "file_extension": ".py",
   "mimetype": "text/x-python",
   "name": "python",
   "nbconvert_exporter": "python",
   "pygments_lexer": "ipython3",
   "version": "3.11.8"
  }
 },
 "nbformat": 4,
 "nbformat_minor": 0
}
